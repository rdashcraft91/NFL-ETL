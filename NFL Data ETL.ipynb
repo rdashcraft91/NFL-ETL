{
 "cells": [
  {
   "cell_type": "code",
   "execution_count": null,
   "metadata": {},
   "outputs": [],
   "source": [
    "#import dependencies\n",
    "import pymongo\n",
    "from bs4 import BeautifulSoup as bs\n",
    "from splinter import Browser\n",
    "from splinter.exceptions import ElementDoesNotExist\n",
    "from sqlalchemy import create_engine\n",
    "from config import password, host\n",
    "import requests\n",
    "import pandas as pd"
   ]
  },
  {
   "cell_type": "markdown",
   "metadata": {},
   "source": [
    "# Scraping NFL Salary Data using Pandas"
   ]
  },
  {
   "cell_type": "code",
   "execution_count": null,
   "metadata": {},
   "outputs": [],
   "source": [
    "#enable chrome browser\n",
    "executable_path = {'executable_path': 'chromedriver.exe'}\n",
    "browser = Browser('chrome', **executable_path, headless=True)"
   ]
  },
  {
   "cell_type": "code",
   "execution_count": null,
   "metadata": {},
   "outputs": [],
   "source": [
    "salary_url = 'https://www.pro-football-reference.com/players/salary.htm'\n",
    "nfl_wiki_url = 'https://en.wikipedia.org/wiki/Wikipedia:WikiProject_National_Football_League/National_Football_League_team_abbreviations'"
   ]
  },
  {
   "cell_type": "code",
   "execution_count": null,
   "metadata": {},
   "outputs": [],
   "source": [
    "#read table from url\n",
    "tables = pd.read_html(salary_url)\n",
    "tables"
   ]
  },
  {
   "cell_type": "code",
   "execution_count": null,
   "metadata": {},
   "outputs": [],
   "source": [
    "#create dataframe based on 1st table\n",
    "salary_df = tables[0]\n",
    "salary_df.head()"
   ]
  },
  {
   "cell_type": "markdown",
   "metadata": {},
   "source": [
    "## Cleaning the Salary DataFrame"
   ]
  },
  {
   "cell_type": "code",
   "execution_count": null,
   "metadata": {},
   "outputs": [],
   "source": [
    "#rename columns\n",
    "salary_df = salary_df.rename(columns={'Rk': 'Salary_Rank', 'Pos':'Player_Position', 'Tm': 'Abrv' })\n",
    "\n",
    "#'Rank' column currently contains blank values when salaries are tied\n",
    "#this line of code will fill the blank rank value with the value directly above\n",
    "salary_df['Salary_Rank'] = salary_df['Salary_Rank'].fillna(method='ffill')\n",
    "\n",
    "#fill blank positions with 'NULL' text string\n",
    "salary_df['Player_Position'] = salary_df['Player_Position'].fillna('NULL')\n",
    "\n",
    "#Split out Player Name and store in a temporary dataframe\n",
    "temp_df = salary_df['Player'].str.split(' ', n=1, expand=True)\n",
    "\n",
    "#add first name and last name to original salary dataframe\n",
    "salary_df['First_Name'] = temp_df[0]\n",
    "salary_df['Last_Name'] = temp_df[1]\n",
    "\n",
    "#remove '$' and ',' characters from Salary \n",
    "salary_df['Salary'] = salary_df['Salary'].str.replace('$','')\n",
    "salary_df['Salary'] = salary_df['Salary'].str.replace(',','')\n",
    "\n",
    "#convert salary datatype to int\n",
    "salary_df['Salary'] = salary_df['Salary'].astype(int)\n",
    "\n",
    "#change abbreviations to official abbreviations\n",
    "salary_df = salary_df.replace({'TAM':'TB', 'OAK': 'LV', 'NOR': 'NO', 'SFO': 'SF', \n",
    "                                'GNB': 'GB', 'KAN': 'KC', 'NWE': 'NE'})\n",
    "\n",
    "#create unique ID using player name and position\n",
    "salary_df['uid'] = salary_df['Player'] + salary_df['Player_Position']\n",
    "\n",
    "#rearrange columns to finish cleaning the salary dataframe\n",
    "columns = ['Salary_Rank', 'uid','Player', 'First_Name', 'Last_Name', 'Player_Position', 'Abrv', 'Salary']\n",
    "salary_df = salary_df[columns]\n",
    "\n",
    "salary_df.head()"
   ]
  },
  {
   "cell_type": "markdown",
   "metadata": {},
   "source": [
    "# Pull NFL Abbreviation Mapping from Wikipedia"
   ]
  },
  {
   "cell_type": "code",
   "execution_count": null,
   "metadata": {},
   "outputs": [],
   "source": [
    "tables = pd.read_html(nfl_wiki_url)\n",
    "\n",
    "#create dataframe based on 1st table\n",
    "nfl_mapping = tables[0]\n",
    "\n",
    "#assign 1st row as headers\n",
    "nfl_mapping.columns = nfl_mapping.iloc[0]\n",
    "nfl_mapping = nfl_mapping[1:]\n",
    "\n",
    "#rename abbreviation columns\n",
    "nfl_mapping = nfl_mapping.rename(columns={'Abbreviation/Acronym':'Abrv', 'Franchise':'Team'})\n",
    "\n",
    "nfl_mapping.head()"
   ]
  },
  {
   "cell_type": "markdown",
   "metadata": {},
   "source": [
    "## Merge Full NFL Name to Salary Table"
   ]
  },
  {
   "cell_type": "code",
   "execution_count": null,
   "metadata": {},
   "outputs": [],
   "source": [
    "#merge salary df with nfl mapping\n",
    "salary_df = pd.merge(salary_df, nfl_mapping, on = 'Abrv', how='left')"
   ]
  },
  {
   "cell_type": "code",
   "execution_count": null,
   "metadata": {},
   "outputs": [],
   "source": [
    "#rearrange columns\n",
    "columns = ['Salary_Rank', 'uid', 'Player', 'First_Name', 'Last_Name', 'Player_Position', 'Abrv', 'Team', 'Salary']\n",
    "salary_df = salary_df[columns]\n",
    "\n",
    "#sort df by rank\n",
    "salary_df = salary_df.sort_values(by=['Salary_Rank'])\n",
    "\n",
    "#make columns lowercase\n",
    "salary_df.columns = salary_df.columns.str.lower()\n",
    "\n",
    "salary_df.head()"
   ]
  },
  {
   "cell_type": "code",
   "execution_count": null,
   "metadata": {},
   "outputs": [],
   "source": [
    "#save csv just for reference\n",
    "salary_df.to_csv('salaries.csv', index=False)\n",
    "salary_df"
   ]
  },
  {
   "cell_type": "markdown",
   "metadata": {},
   "source": [
    "# NFL Players by Draft Position"
   ]
  },
  {
   "cell_type": "code",
   "execution_count": null,
   "metadata": {},
   "outputs": [],
   "source": [
    "url = 'http://www.drafthistory.com/index.php/years/'"
   ]
  },
  {
   "cell_type": "code",
   "execution_count": null,
   "metadata": {},
   "outputs": [],
   "source": [
    "rounds = []\n",
    "years = list(range(1998,2020))\n",
    "\n",
    "for year in years:\n",
    "    request = requests.get(f'{url}{year}')\n",
    "    draft = pd.read_html(request.text, header=1)\n",
    "    draft = draft[0]\n",
    "    rounds.append(draft)"
   ]
  },
  {
   "cell_type": "code",
   "execution_count": null,
   "metadata": {},
   "outputs": [],
   "source": [
    "draft1998 = rounds[0]\n",
    "draft1999 = rounds[1]\n",
    "draft2000 = rounds[2] \n",
    "draft2001 = rounds[3] \n",
    "draft2002 = rounds[4]\n",
    "draft2003 = rounds[5]\n",
    "draft2004 = rounds[6]\n",
    "draft2005 = rounds[7]\n",
    "draft2006 = rounds[8]\n",
    "draft2007 = rounds[9]\n",
    "draft2008 = rounds[10] \n",
    "draft2009 = rounds[11] \n",
    "draft2010 = rounds[12]\n",
    "draft2011 = rounds[13]\n",
    "draft2012 = rounds[14]\n",
    "draft2013 = rounds[15]\n",
    "draft2014 = rounds[16]\n",
    "draft2015 = rounds[17]\n",
    "draft2016 = rounds[18]\n",
    "draft2017 = rounds[19]\n",
    "draft2018 = rounds[20]\n",
    "draft2019 = rounds[21]"
   ]
  },
  {
   "cell_type": "code",
   "execution_count": null,
   "metadata": {},
   "outputs": [],
   "source": [
    "draft1998['Year'] = '1998'\n",
    "draft1999['Year'] = '1999'\n",
    "draft2000['Year'] = '2000' \n",
    "draft2001['Year'] = '2001' \n",
    "draft2002['Year'] = '2002'\n",
    "draft2003['Year'] = '2003'\n",
    "draft2004['Year'] = '2004'\n",
    "draft2005['Year'] = '2005'\n",
    "draft2006['Year'] = '2006'\n",
    "draft2007['Year'] = '2007'\n",
    "draft2008['Year'] = '2008'\n",
    "draft2009['Year'] = '2009'\n",
    "draft2010['Year'] = '2010'\n",
    "draft2011['Year'] = '2011'\n",
    "draft2012['Year'] = '2012'\n",
    "draft2013['Year'] = '2013'\n",
    "draft2014['Year'] = '2014'\n",
    "draft2015['Year'] = '2015'\n",
    "draft2016['Year'] = '2016'\n",
    "draft2017['Year'] = '2017'\n",
    "draft2018['Year'] = '2018'\n",
    "draft2019['Year'] = '2019'"
   ]
  },
  {
   "cell_type": "code",
   "execution_count": null,
   "metadata": {},
   "outputs": [],
   "source": [
    "all_drafts = [draft1998, draft1999, draft2000, draft2001, draft2002, draft2003, draft2004, draft2005, draft2006, \n",
    "              draft2007, draft2008, draft2009, draft2010, draft2011, draft2012, draft2013, draft2014, draft2015, \n",
    "              draft2016, draft2017, draft2018, draft2019]\n",
    "\n",
    "all_drafts = pd.concat(all_drafts).reset_index(drop=True)\n",
    "\n",
    "all_drafts.head(50)"
   ]
  },
  {
   "cell_type": "code",
   "execution_count": null,
   "metadata": {},
   "outputs": [],
   "source": [
    "all_drafts['Round'] = all_drafts['Round'].fillna(method='ffill')\n",
    "\n",
    "all_drafts = all_drafts.rename(columns={\"Pick\": \"Round_Pick\", \"Player\": \"Overall_Pick\"})\n",
    "\n",
    "# all_drafts.loc[all_drafts['Name'] == 'Adrian Peterson']\n",
    "small_info = all_drafts[['Name', 'Position']]\n",
    "small_info = small_info[small_info.duplicated()]\n",
    "small_info"
   ]
  },
  {
   "cell_type": "code",
   "execution_count": null,
   "metadata": {},
   "outputs": [],
   "source": []
  },
  {
   "cell_type": "code",
   "execution_count": null,
   "metadata": {},
   "outputs": [],
   "source": [
    "url = 'https://www.pro-football-reference.com/years/2019/scrimmage.htm'"
   ]
  },
  {
   "cell_type": "code",
   "execution_count": null,
   "metadata": {},
   "outputs": [],
   "source": [
    "tables = pd.read_html(url, header=[1])\n",
    "stats2019 = tables[0]\n",
    "stats2019['Player'] = stats2019['Player'].map(lambda x: x.rstrip('+*'))\n",
    "stats2019"
   ]
  },
  {
   "cell_type": "code",
   "execution_count": null,
   "metadata": {},
   "outputs": [],
   "source": [
    "stats2019 = stats2019.replace({'TAM':'TB', 'OAK': 'LV', 'NOR': 'NO', 'SFO': 'SF', \n",
    "                                'GNB': 'GB', 'KAN': 'KC', 'NWE': 'NE'})\n",
    "stats2019"
   ]
  },
  {
   "cell_type": "code",
   "execution_count": null,
   "metadata": {},
   "outputs": [],
   "source": [
    "stats2019 = stats2019[['Player', 'Tm', 'Age', 'Pos', 'G', 'Touch', 'Y/Tch', 'YScm', 'RRTD', 'Fmb', 'Rec']]\n",
    "\n",
    "stats2019"
   ]
  },
  {
   "cell_type": "code",
   "execution_count": null,
   "metadata": {},
   "outputs": [],
   "source": [
    "stats2019 = stats2019.rename(columns={'Tm':'Team', 'Pos': 'Position', 'G': 'Games', 'Y/Tch': 'Yards/Touch', \n",
    "                                'YScm': 'Total_Yards', 'RRTD': 'Touchdowns', 'Fmb': 'Fumbles', 'Rec':'Receptions', 'Touch': 'Touches'})\n",
    "\n",
    "stats2019"
   ]
  },
  {
   "cell_type": "code",
   "execution_count": null,
   "metadata": {},
   "outputs": [],
   "source": [
    "stats2019 = stats2019.loc[stats2019['Total_Yards'] != 'YScm']\n",
    "\n",
    "stats2019"
   ]
  },
  {
   "cell_type": "code",
   "execution_count": null,
   "metadata": {},
   "outputs": [],
   "source": []
  },
  {
   "cell_type": "markdown",
   "metadata": {},
   "source": [
    "# Extract 2019 NFL season standings using Pandas"
   ]
  },
  {
   "cell_type": "code",
   "execution_count": null,
   "metadata": {},
   "outputs": [],
   "source": [
    "# Pull seaonson standings table data using Pandas\n",
    "url = 'http://www.playoffstatus.com/nfl/nflpostseasonprob.html'\n",
    "tables = pd.read_html(url, header=[1])"
   ]
  },
  {
   "cell_type": "code",
   "execution_count": null,
   "metadata": {},
   "outputs": [],
   "source": [
    "# Store correct table in variable\n",
    "nfl_2019_standings_df = tables[0]\n",
    "nfl_2019_standings_df"
   ]
  },
  {
   "cell_type": "code",
   "execution_count": null,
   "metadata": {},
   "outputs": [],
   "source": [
    "# Rename columns correct 49ers name\n",
    "nfl_2019_standings_df = nfl_2019_standings_df[['Team','Conference Conf','W','L','T']]\n",
    "nfl_2019_standings_df = nfl_2019_standings_df.rename(columns={\"Conference Conf\": \"Conference\", \"W\": \"Wins\", \"L\":\"Losses\",\"T\":\"Ties\"})\n",
    "nfl_2019_standings_df.at[1,'Team'] = '49ers'\n",
    "nfl_2019_standings_df"
   ]
  },
  {
   "cell_type": "code",
   "execution_count": null,
   "metadata": {},
   "outputs": [],
   "source": [
    "# Pull NFL team abbreviation data using pandas\n",
    "url = 'https://en.wikipedia.org/wiki/Wikipedia:WikiProject_National_Football_League/National_Football_League_team_abbreviations'\n",
    "tables = pd.read_html(url)"
   ]
  },
  {
   "cell_type": "code",
   "execution_count": null,
   "metadata": {},
   "outputs": [],
   "source": [
    "# Clean up abbreviation table \n",
    "nfl_abbrev_df = tables[0]\n",
    "nfl_abbrev_df = nfl_abbrev_df.drop(0)\n",
    "nfl_abbrev_df = nfl_abbrev_df.rename(columns={0: \"Abbreviation\", 1: \"Team\"})\n",
    "nfl_abbrev_df"
   ]
  },
  {
   "cell_type": "code",
   "execution_count": null,
   "metadata": {},
   "outputs": [],
   "source": [
    "# Split and get last part of team name\n",
    "nfl_abbrev_df[\"Team\"] = nfl_abbrev_df[\"Team\"].str.split().str[-1]\n",
    "nfl_abbrev_df.head()"
   ]
  },
  {
   "cell_type": "code",
   "execution_count": null,
   "metadata": {},
   "outputs": [],
   "source": [
    "# Merge season standings table and abbreviation table on team name\n",
    "nfl_2019_standings_df = pd.merge(nfl_2019_standings_df, nfl_abbrev_df, how='inner', on='Team')\n",
    "nfl_2019_standings_df.head()"
   ]
  },
  {
   "cell_type": "code",
   "execution_count": null,
   "metadata": {},
   "outputs": [],
   "source": []
  },
  {
   "cell_type": "code",
   "execution_count": null,
   "metadata": {},
   "outputs": [],
   "source": []
  },
  {
   "cell_type": "code",
   "execution_count": null,
   "metadata": {},
   "outputs": [],
   "source": []
  },
  {
   "cell_type": "code",
   "execution_count": null,
   "metadata": {},
   "outputs": [],
   "source": []
  },
  {
   "cell_type": "markdown",
   "metadata": {},
   "source": [
    "# Connect and Load Data to Postgres Database"
   ]
  },
  {
   "cell_type": "code",
   "execution_count": null,
   "metadata": {},
   "outputs": [],
   "source": [
    "#create postgres connection string\n",
    "rds_connection_string = f\"postgres:{password}@localhost:{host}/NFL\"\n",
    "engine = create_engine(f'postgresql://{rds_connection_string}')"
   ]
  },
  {
   "cell_type": "code",
   "execution_count": null,
   "metadata": {},
   "outputs": [],
   "source": [
    "#view engine table names\n",
    "engine.table_names()"
   ]
  },
  {
   "cell_type": "code",
   "execution_count": null,
   "metadata": {},
   "outputs": [],
   "source": [
    "#load salary df to salaries table\n",
    "salary_df.to_sql(name='salaries', con=engine, if_exists='append', index=False)"
   ]
  },
  {
   "cell_type": "code",
   "execution_count": null,
   "metadata": {},
   "outputs": [],
   "source": [
    "#preview data loaded from table\n",
    "pd.read_sql_query('select * from salaries limit 10', con=engine).head()"
   ]
  },
  {
   "cell_type": "code",
   "execution_count": null,
   "metadata": {},
   "outputs": [],
   "source": []
  },
  {
   "cell_type": "code",
   "execution_count": null,
   "metadata": {},
   "outputs": [],
   "source": []
  },
  {
   "cell_type": "code",
   "execution_count": null,
   "metadata": {},
   "outputs": [],
   "source": [
    "connection_string = \"postgres:R4$hcr4ft13@localhost:5432/NFL_Draft\"\n",
    "engine = create_engine(f'postgresql://{connection_string}')\n",
    "\n",
    "engine.table_names()"
   ]
  },
  {
   "cell_type": "code",
   "execution_count": null,
   "metadata": {},
   "outputs": [],
   "source": [
    "all_drafts.to_sql(name='drafts', con=engine, if_exists='append', index=False)"
   ]
  },
  {
   "cell_type": "code",
   "execution_count": null,
   "metadata": {},
   "outputs": [],
   "source": []
  },
  {
   "cell_type": "code",
   "execution_count": null,
   "metadata": {},
   "outputs": [],
   "source": []
  },
  {
   "cell_type": "code",
   "execution_count": null,
   "metadata": {},
   "outputs": [],
   "source": [
    "connection_string = f\"postgres:{pswd}@localhost:5432/NFL_Draft\"\n",
    "engine = create_engine(f'postgresql://{connection_string}')\n",
    "\n",
    "engine.table_names()"
   ]
  },
  {
   "cell_type": "code",
   "execution_count": null,
   "metadata": {},
   "outputs": [],
   "source": [
    "stats2019.to_sql(name='player_stats', con=engine, if_exists='append', index=False)"
   ]
  },
  {
   "cell_type": "code",
   "execution_count": null,
   "metadata": {},
   "outputs": [],
   "source": []
  },
  {
   "cell_type": "code",
   "execution_count": null,
   "metadata": {},
   "outputs": [],
   "source": []
  },
  {
   "cell_type": "code",
   "execution_count": null,
   "metadata": {},
   "outputs": [],
   "source": [
    "new_customer_data_df.to_sql(name='nfl_2019_standings', con=engine, if_exists='append', index=False)"
   ]
  },
  {
   "cell_type": "code",
   "execution_count": null,
   "metadata": {},
   "outputs": [],
   "source": []
  },
  {
   "cell_type": "code",
   "execution_count": null,
   "metadata": {},
   "outputs": [],
   "source": []
  },
  {
   "cell_type": "code",
   "execution_count": null,
   "metadata": {},
   "outputs": [],
   "source": []
  }
 ],
 "metadata": {
  "kernelspec": {
   "display_name": "Python 3.7.4 64-bit ('base': conda)",
   "language": "python",
   "name": "python37464bitbasecondab2850c24ee4348f4a6965a3fdfdd4d78"
  },
  "language_info": {
   "codemirror_mode": {
    "name": "ipython",
    "version": 3
   },
   "file_extension": ".py",
   "mimetype": "text/x-python",
   "name": "python",
   "nbconvert_exporter": "python",
   "pygments_lexer": "ipython3",
   "version": "3.7.4"
  }
 },
 "nbformat": 4,
 "nbformat_minor": 2
}
