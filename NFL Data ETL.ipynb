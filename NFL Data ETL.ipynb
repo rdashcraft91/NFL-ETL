{
 "cells": [
  {
   "cell_type": "code",
   "execution_count": 1,
   "metadata": {},
   "outputs": [
    {
     "ename": "ImportError",
     "evalue": "cannot import name 'password' from 'config' (/Users/ryanashcraft/Desktop/DataAnalyticsCourse/NFL-ETL/config.py)",
     "output_type": "error",
     "traceback": [
      "\u001b[0;31m---------------------------------------------------------------------------\u001b[0m",
      "\u001b[0;31mImportError\u001b[0m                               Traceback (most recent call last)",
      "\u001b[0;32m<ipython-input-1-a3632c05078b>\u001b[0m in \u001b[0;36m<module>\u001b[0;34m\u001b[0m\n\u001b[1;32m      5\u001b[0m \u001b[0;32mfrom\u001b[0m \u001b[0msplinter\u001b[0m\u001b[0;34m.\u001b[0m\u001b[0mexceptions\u001b[0m \u001b[0;32mimport\u001b[0m \u001b[0mElementDoesNotExist\u001b[0m\u001b[0;34m\u001b[0m\u001b[0;34m\u001b[0m\u001b[0m\n\u001b[1;32m      6\u001b[0m \u001b[0;32mfrom\u001b[0m \u001b[0msqlalchemy\u001b[0m \u001b[0;32mimport\u001b[0m \u001b[0mcreate_engine\u001b[0m\u001b[0;34m\u001b[0m\u001b[0;34m\u001b[0m\u001b[0m\n\u001b[0;32m----> 7\u001b[0;31m \u001b[0;32mfrom\u001b[0m \u001b[0mconfig\u001b[0m \u001b[0;32mimport\u001b[0m \u001b[0mpassword\u001b[0m\u001b[0;34m,\u001b[0m \u001b[0mhost\u001b[0m\u001b[0;34m,\u001b[0m \u001b[0mpswd\u001b[0m\u001b[0;34m\u001b[0m\u001b[0;34m\u001b[0m\u001b[0m\n\u001b[0m\u001b[1;32m      8\u001b[0m \u001b[0;32mimport\u001b[0m \u001b[0mrequests\u001b[0m\u001b[0;34m\u001b[0m\u001b[0;34m\u001b[0m\u001b[0m\n\u001b[1;32m      9\u001b[0m \u001b[0;32mimport\u001b[0m \u001b[0mpandas\u001b[0m \u001b[0;32mas\u001b[0m \u001b[0mpd\u001b[0m\u001b[0;34m\u001b[0m\u001b[0;34m\u001b[0m\u001b[0m\n",
      "\u001b[0;31mImportError\u001b[0m: cannot import name 'password' from 'config' (/Users/ryanashcraft/Desktop/DataAnalyticsCourse/NFL-ETL/config.py)"
     ]
    }
   ],
   "source": [
    "#import dependencies\n",
    "import pymongo\n",
    "from bs4 import BeautifulSoup as bs\n",
    "from splinter import Browser\n",
    "from splinter.exceptions import ElementDoesNotExist\n",
    "from sqlalchemy import create_engine\n",
    "from config import password, host, pswd\n",
    "import requests\n",
    "import pandas as pd"
   ]
  },
  {
   "cell_type": "markdown",
   "metadata": {},
   "source": [
    "# Scraping NFL Salary Data using Pandas"
   ]
  },
  {
   "cell_type": "code",
   "execution_count": null,
   "metadata": {},
   "outputs": [],
   "source": [
    "#enable chrome browser\n",
    "executable_path = {'executable_path': 'chromedriver.exe'}\n",
    "browser = Browser('chrome', **executable_path, headless=True)"
   ]
  },
  {
   "cell_type": "code",
   "execution_count": null,
   "metadata": {},
   "outputs": [],
   "source": [
    "salary_url = 'https://www.pro-football-reference.com/players/salary.htm'\n",
    "nfl_wiki_url = 'https://en.wikipedia.org/wiki/Wikipedia:WikiProject_National_Football_League/National_Football_League_team_abbreviations'"
   ]
  },
  {
   "cell_type": "code",
   "execution_count": null,
   "metadata": {},
   "outputs": [],
   "source": [
    "#read table from url\n",
    "tables = pd.read_html(salary_url)\n",
    "tables"
   ]
  },
  {
   "cell_type": "code",
   "execution_count": null,
   "metadata": {},
   "outputs": [],
   "source": [
    "#create dataframe based on 1st table\n",
    "salary_df = tables[0]\n",
    "salary_df.head()"
   ]
  },
  {
   "cell_type": "markdown",
   "metadata": {},
   "source": [
    "## Cleaning the Salary DataFrame"
   ]
  },
  {
   "cell_type": "code",
   "execution_count": null,
   "metadata": {},
   "outputs": [],
   "source": [
    "#rename columns\n",
    "salary_df = salary_df.rename(columns={'Rk': 'Salary_Rank', 'Pos':'Player_Position', 'Tm': 'Abrv' })\n",
    "\n",
    "#'Rank' column currently contains blank values when salaries are tied\n",
    "#this line of code will fill the blank rank value with the value directly above\n",
    "salary_df['Salary_Rank'] = salary_df['Salary_Rank'].fillna(method='ffill')\n",
    "\n",
    "#fill blank positions with 'NULL' text string\n",
    "salary_df['Player_Position'] = salary_df['Player_Position'].fillna('NULL')\n",
    "\n",
    "#Split out Player Name and store in a temporary dataframe\n",
    "temp_df = salary_df['Player'].str.split(' ', n=1, expand=True)\n",
    "\n",
    "#add first name and last name to original salary dataframe\n",
    "salary_df['First_Name'] = temp_df[0]\n",
    "salary_df['Last_Name'] = temp_df[1]\n",
    "\n",
    "#remove '$' and ',' characters from Salary \n",
    "salary_df['Salary'] = salary_df['Salary'].str.replace('$','')\n",
    "salary_df['Salary'] = salary_df['Salary'].str.replace(',','')\n",
    "\n",
    "#convert salary datatype to int\n",
    "salary_df['Salary'] = salary_df['Salary'].astype(int)\n",
    "\n",
    "#change abbreviations to official abbreviations\n",
    "salary_df = salary_df.replace({'TAM':'TB', 'OAK': 'LV', 'NOR': 'NO', 'SFO': 'SF', \n",
    "                                'GNB': 'GB', 'KAN': 'KC', 'NWE': 'NE'})\n",
    "\n",
    "#create unique ID using player name and position\n",
    "salary_df['uid'] = salary_df['Player'] + salary_df['Player_Position']\n",
    "\n",
    "#rearrange columns to finish cleaning the salary dataframe\n",
    "columns = ['Salary_Rank', 'uid','Player', 'First_Name', 'Last_Name', 'Player_Position', 'Abrv', 'Salary']\n",
    "salary_df = salary_df[columns]\n",
    "\n",
    "salary_df.head()"
   ]
  },
  {
   "cell_type": "markdown",
   "metadata": {},
   "source": [
    "# Pull NFL Abbreviation Mapping from Wikipedia"
   ]
  },
  {
   "cell_type": "code",
   "execution_count": null,
   "metadata": {},
   "outputs": [],
   "source": [
    "tables = pd.read_html(nfl_wiki_url)\n",
    "\n",
    "#create dataframe based on 1st table\n",
    "nfl_mapping = tables[0]\n",
    "\n",
    "#assign 1st row as headers\n",
    "nfl_mapping.columns = nfl_mapping.iloc[0]\n",
    "nfl_mapping = nfl_mapping[1:]\n",
    "\n",
    "#rename abbreviation columns\n",
    "nfl_mapping = nfl_mapping.rename(columns={'Abbreviation/Acronym':'Abrv', 'Franchise':'Team'})\n",
    "\n",
    "nfl_mapping.head()"
   ]
  },
  {
   "cell_type": "markdown",
   "metadata": {},
   "source": [
    "## Merge Full NFL Name to Salary Table"
   ]
  },
  {
   "cell_type": "code",
   "execution_count": null,
   "metadata": {},
   "outputs": [],
   "source": [
    "#merge salary df with nfl mapping\n",
    "salary_df = pd.merge(salary_df, nfl_mapping, on = 'Abrv', how='left')"
   ]
  },
  {
   "cell_type": "code",
   "execution_count": null,
   "metadata": {},
   "outputs": [],
   "source": [
    "#rearrange columns\n",
    "columns = ['Salary_Rank', 'uid', 'Player', 'First_Name', 'Last_Name', 'Player_Position', 'Abrv', 'Team', 'Salary']\n",
    "salary_df = salary_df[columns]\n",
    "\n",
    "#sort df by rank\n",
    "salary_df = salary_df.sort_values(by=['Salary_Rank'])\n",
    "\n",
    "#make columns lowercase\n",
    "salary_df.columns = salary_df.columns.str.lower()\n",
    "\n",
    "salary_df.head()"
   ]
  },
  {
   "cell_type": "code",
   "execution_count": null,
   "metadata": {},
   "outputs": [],
   "source": [
    "#save csv just for reference\n",
    "salary_df.to_csv('salaries.csv', index=False)\n",
    "salary_df"
   ]
  },
  {
   "cell_type": "markdown",
   "metadata": {},
   "source": [
    "# NFL Player Stats from 2019"
   ]
  },
  {
   "cell_type": "code",
   "execution_count": null,
   "metadata": {},
   "outputs": [],
   "source": [
    "# Assign URL\n",
    "url = 'https://www.pro-football-reference.com/years/2019/scrimmage.htm'"
   ]
  },
  {
   "cell_type": "code",
   "execution_count": null,
   "metadata": {},
   "outputs": [],
   "source": [
    "# Read Table from URL\n",
    "tables = pd.read_html(url, header=[1])\n",
    "print(len(tables))"
   ]
  },
  {
   "cell_type": "code",
   "execution_count": null,
   "metadata": {},
   "outputs": [],
   "source": [
    "# Find Correct Table and Assign Variable\n",
    "stats2019 = tables[0]\n",
    "\n",
    "stats2019"
   ]
  },
  {
   "cell_type": "markdown",
   "metadata": {},
   "source": [
    "# Cleaning the NFL Player Stats Data"
   ]
  },
  {
   "cell_type": "code",
   "execution_count": null,
   "metadata": {},
   "outputs": [],
   "source": [
    "# Remove special characters from player names\n",
    "stats2019['Player'] = stats2019['Player'].map(lambda x: x.rstrip('+*'))"
   ]
  },
  {
   "cell_type": "code",
   "execution_count": null,
   "metadata": {},
   "outputs": [],
   "source": [
    "# Fix Team Abreviations\n",
    "stats2019 = stats2019.replace({'TAM':'TB', 'OAK': 'LV', 'NOR': 'NO', 'SFO': 'SF', \n",
    "                                'GNB': 'GB', 'KAN': 'KC', 'NWE': 'NE'})\n",
    "stats2019"
   ]
  },
  {
   "cell_type": "code",
   "execution_count": null,
   "metadata": {},
   "outputs": [],
   "source": [
    "# Pick Relevant Columns\n",
    "stats2019 = stats2019[['Player', 'Tm', 'Age', 'Pos', 'G', 'Touch', 'Y/Tch', 'YScm', 'RRTD', 'Fmb', 'Rec']]\n",
    "\n",
    "stats2019"
   ]
  },
  {
   "cell_type": "code",
   "execution_count": null,
   "metadata": {},
   "outputs": [],
   "source": [
    "# Fix Column Names\n",
    "stats2019 = stats2019.rename(columns={'Tm':'Team', 'Pos': 'Position', 'G': 'Games', 'Y/Tch': 'Yards/Touch', \n",
    "                                'YScm': 'Total_Yards', 'RRTD': 'Touchdowns', 'Fmb': 'Fumbles', 'Rec':'Receptions', 'Touch': 'Touches'})"
   ]
  },
  {
   "cell_type": "code",
   "execution_count": null,
   "metadata": {},
   "outputs": [],
   "source": [
    "# Remove secondary column names rows\n",
    "stats2019 = stats2019.loc[stats2019['Total_Yards'] != 'YScm']\n",
    "\n",
    "stats2019"
   ]
  },
  {
   "cell_type": "code",
   "execution_count": null,
   "metadata": {},
   "outputs": [],
   "source": [
    "# Convert Data Types to Integers and Float\n",
    "num_cols = ['Age', 'Games', 'Touches', 'Total_Yards', 'Touchdowns', 'Fumbles', 'Receptions']\n",
    "\n",
    "for col in num_cols:\n",
    "    stats2019[f'{col}'] = stats2019[f'{col}'].astype(str).astype(int)\n",
    "\n",
    "stats2019['Yards/Touch'] = stats2019['Yards/Touch'].astype(str).astype(float)\n",
    "\n",
    "stats2019.dtypes\n"
   ]
  },
  {
   "cell_type": "code",
   "execution_count": null,
   "metadata": {},
   "outputs": [],
   "source": [
    "# Print Header of Final Database\n",
    "stats2019.head()"
   ]
  },
  {
   "cell_type": "markdown",
   "metadata": {},
   "source": [
    "# Extract 2019 NFL season standings using Pandas"
   ]
  },
  {
   "cell_type": "code",
   "execution_count": null,
   "metadata": {},
   "outputs": [],
   "source": [
    "# Pull seaonson standings table data using Pandas\n",
    "url = 'http://www.playoffstatus.com/nfl/nflpostseasonprob.html'\n",
    "tables = pd.read_html(url, header=[1])"
   ]
  },
  {
   "cell_type": "code",
   "execution_count": null,
   "metadata": {},
   "outputs": [],
   "source": [
    "# Store correct table in variable\n",
    "nfl_2019_standings_df = tables[0]\n",
    "nfl_2019_standings_df"
   ]
  },
  {
   "cell_type": "code",
   "execution_count": null,
   "metadata": {},
   "outputs": [],
   "source": [
    "# Rename columns correct 49ers name\n",
    "nfl_2019_standings_df = nfl_2019_standings_df[['Team','Conference Conf','W','L','T']]\n",
    "nfl_2019_standings_df = nfl_2019_standings_df.rename(columns={\"Conference Conf\": \"Conference\", \"W\": \"Wins\", \"L\":\"Losses\",\"T\":\"Ties\"})\n",
    "nfl_2019_standings_df.at[1,'Team'] = '49ers'\n",
    "nfl_2019_standings_df"
   ]
  },
  {
   "cell_type": "code",
   "execution_count": null,
   "metadata": {},
   "outputs": [],
   "source": [
    "# Pull NFL team abbreviation data using pandas\n",
    "url = 'https://en.wikipedia.org/wiki/Wikipedia:WikiProject_National_Football_League/National_Football_League_team_abbreviations'\n",
    "tables = pd.read_html(url)"
   ]
  },
  {
   "cell_type": "code",
   "execution_count": null,
   "metadata": {},
   "outputs": [],
   "source": [
    "# Clean up abbreviation table \n",
    "nfl_abbrev_df = tables[0]\n",
    "nfl_abbrev_df = nfl_abbrev_df.drop(0)\n",
    "nfl_abbrev_df = nfl_abbrev_df.rename(columns={0: \"Abbreviation\", 1: \"Team\"})\n",
    "nfl_abbrev_df"
   ]
  },
  {
   "cell_type": "code",
   "execution_count": null,
   "metadata": {},
   "outputs": [],
   "source": [
    "# Split and get last part of team name\n",
    "nfl_abbrev_df[\"Team\"] = nfl_abbrev_df[\"Team\"].str.split().str[-1]\n",
    "nfl_abbrev_df.head()"
   ]
  },
  {
   "cell_type": "code",
   "execution_count": null,
   "metadata": {},
   "outputs": [],
   "source": [
    "# Merge season standings table and abbreviation table on team name\n",
    "nfl_2019_standings_df = pd.merge(nfl_2019_standings_df, nfl_abbrev_df, how='inner', on='Team')\n",
    "nfl_2019_standings_df.head()"
   ]
  },
  {
   "cell_type": "code",
   "execution_count": null,
   "metadata": {},
   "outputs": [],
   "source": []
  },
  {
   "cell_type": "code",
   "execution_count": null,
   "metadata": {},
   "outputs": [],
   "source": []
  },
  {
   "cell_type": "code",
   "execution_count": null,
   "metadata": {},
   "outputs": [],
   "source": []
  },
  {
   "cell_type": "code",
   "execution_count": null,
   "metadata": {},
   "outputs": [],
   "source": []
  },
  {
   "cell_type": "markdown",
   "metadata": {},
   "source": [
    "# Connect and Load Data to Postgres Database"
   ]
  },
  {
   "cell_type": "markdown",
   "metadata": {},
   "source": [
    "Player Salary Data"
   ]
  },
  {
   "cell_type": "code",
   "execution_count": null,
   "metadata": {},
   "outputs": [],
   "source": [
    "#create postgres connection string\n",
    "rds_connection_string = f\"postgres:{password}@localhost:{host}/NFL\"\n",
    "engine = create_engine(f'postgresql://{rds_connection_string}')"
   ]
  },
  {
   "cell_type": "code",
   "execution_count": null,
   "metadata": {},
   "outputs": [],
   "source": [
    "#view engine table names\n",
    "engine.table_names()"
   ]
  },
  {
   "cell_type": "code",
   "execution_count": null,
   "metadata": {},
   "outputs": [],
   "source": [
    "#load salary df to salaries table\n",
    "salary_df.to_sql(name='salaries', con=engine, if_exists='append', index=False)"
   ]
  },
  {
   "cell_type": "code",
   "execution_count": null,
   "metadata": {},
   "outputs": [],
   "source": [
    "#preview data loaded from table\n",
    "pd.read_sql_query('select * from salaries limit 10', con=engine).head()"
   ]
  },
  {
   "cell_type": "markdown",
   "metadata": {},
   "source": [
    "Player Stats Data"
   ]
  },
  {
   "cell_type": "code",
   "execution_count": null,
   "metadata": {},
   "outputs": [],
   "source": [
    "# Connect to Postgres and Start Engine\n",
    "connection_string = f\"postgres:{pswd}@localhost:5432/NFL_Draft\"\n",
    "engine = create_engine(f'postgresql://{connection_string}')"
   ]
  },
  {
   "cell_type": "code",
   "execution_count": null,
   "metadata": {},
   "outputs": [],
   "source": [
    "# Print Table Names in Database\n",
    "engine.table_names()"
   ]
  },
  {
   "cell_type": "code",
   "execution_count": null,
   "metadata": {},
   "outputs": [],
   "source": [
    "# Fill Table\n",
    "stats2019.to_sql(name='player_stats', con=engine, if_exists='replace', index=False)"
   ]
  },
  {
   "cell_type": "code",
   "execution_count": null,
   "metadata": {},
   "outputs": [],
   "source": [
    "# Print Table\n",
    "pd.read_sql_query('select * from player_stats limit 10', con=engine)"
   ]
  },
  {
   "cell_type": "code",
   "execution_count": null,
   "metadata": {},
   "outputs": [],
   "source": [
    "new_customer_data_df.to_sql(name='nfl_2019_standings', con=engine, if_exists='append', index=False)"
   ]
  },
  {
   "cell_type": "code",
   "execution_count": null,
   "metadata": {},
   "outputs": [],
   "source": []
  },
  {
   "cell_type": "code",
   "execution_count": null,
   "metadata": {},
   "outputs": [],
   "source": []
  },
  {
   "cell_type": "code",
   "execution_count": null,
   "metadata": {},
   "outputs": [],
   "source": []
  }
 ],
 "metadata": {
  "kernelspec": {
   "display_name": "Python 3",
   "language": "python",
   "name": "python3"
  },
  "language_info": {
   "codemirror_mode": {
    "name": "ipython",
    "version": 3
   },
   "file_extension": ".py",
   "mimetype": "text/x-python",
   "name": "python",
   "nbconvert_exporter": "python",
   "pygments_lexer": "ipython3",
   "version": "3.7.4"
  }
 },
 "nbformat": 4,
 "nbformat_minor": 2
}
